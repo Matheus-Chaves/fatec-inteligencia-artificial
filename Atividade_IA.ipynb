{
  "nbformat": 4,
  "nbformat_minor": 0,
  "metadata": {
    "colab": {
      "provenance": [],
      "toc_visible": true,
      "authorship_tag": "ABX9TyPKY/ap7NJ5k+8zXe4c13BC",
      "include_colab_link": true
    },
    "kernelspec": {
      "name": "python3",
      "display_name": "Python 3"
    },
    "language_info": {
      "name": "python"
    }
  },
  "cells": [
    {
      "cell_type": "markdown",
      "metadata": {
        "id": "view-in-github",
        "colab_type": "text"
      },
      "source": [
        "<a href=\"https://colab.research.google.com/github/Matheus-Chaves/fatec-inteligencia-artificial/blob/main/Atividade_IA.ipynb\" target=\"_parent\"><img src=\"https://colab.research.google.com/assets/colab-badge.svg\" alt=\"Open In Colab\"/></a>"
      ]
    },
    {
      "cell_type": "code",
      "execution_count": null,
      "metadata": {
        "id": "JmrDvD4M2TM0"
      },
      "outputs": [],
      "source": [
        "import os\n",
        "from zipfile import ZipFile\n",
        "import urllib\n",
        "\n",
        "DOWNLOAD_ROOT = \"https://github.com/Matheus-Chaves/fatec-inteligencia-artificial/blob/main/\"\n",
        "WORLD_CUP_PATH = os.path.join(\"datasets\", \"world_cup\")\n",
        "WORLD_CUP_URL = DOWNLOAD_ROOT + \"archive.zip?raw=true\"\n",
        "\n",
        "def fetch_world_cup_data(world_cup_url=WORLD_CUP_URL, world_cup_path=WORLD_CUP_PATH):\n",
        "  os.makedirs(world_cup_path, exist_ok=True)\n",
        "  zip_path = os.path.join(world_cup_path, \"archive.zip\")\n",
        "  urllib.request.urlretrieve(world_cup_url, zip_path)\n",
        "  with ZipFile(zip_path, 'r') as world_cup_zip:\n",
        "    world_cup_zip.extractall(world_cup_path)\n",
        " "
      ]
    },
    {
      "cell_type": "code",
      "source": [
        "fetch_world_cup_data()"
      ],
      "metadata": {
        "id": "-6bAcXGb2Ybn"
      },
      "execution_count": null,
      "outputs": []
    },
    {
      "cell_type": "code",
      "source": [
        "import pandas as pd\n",
        "\n",
        "def load_world_cup_data(world_cup_path=WORLD_CUP_PATH):\n",
        "  data = dict()\n",
        "  for file in os.listdir(world_cup_path):\n",
        "      if file.endswith(\".csv\"):\n",
        "         data[file.replace(\".csv\",\"\")] = pd.read_csv(os.path.join(world_cup_path, file))\n",
        "  return data\n"
      ],
      "metadata": {
        "id": "vRgv2cXD2jUg"
      },
      "execution_count": 4,
      "outputs": []
    },
    {
      "cell_type": "code",
      "source": [
        "world_cup = load_world_cup_data()\n",
        "print(world_cup.keys())"
      ],
      "metadata": {
        "colab": {
          "base_uri": "https://localhost:8080/"
        },
        "id": "_keXdKWO2_Lt",
        "outputId": "30cf643d-1020-44c7-c367-cfee4dc464a8"
      },
      "execution_count": 7,
      "outputs": [
        {
          "output_type": "stream",
          "name": "stdout",
          "text": [
            "dict_keys(['matches_2022', 'fifa_ranking_2022-10-06', 'matches_1930_2018', 'world_cup'])\n"
          ]
        }
      ]
    },
    {
      "cell_type": "code",
      "source": [
        "world_cup['matches_2022'].head()"
      ],
      "metadata": {
        "colab": {
          "base_uri": "https://localhost:8080/",
          "height": 366
        },
        "id": "lEbOOP7iV0SE",
        "outputId": "1601b9ae-f187-4068-fa4e-0e335d35ad1a"
      },
      "execution_count": 13,
      "outputs": [
        {
          "output_type": "execute_result",
          "data": {
            "text/plain": [
              "       home_team    away_team  home_score  home_xg  home_penalty  away_score  \\\n",
              "0          Qatar      Ecuador         0.0      0.3           NaN         2.0   \n",
              "1        England      IR Iran         6.0      2.1           NaN         2.0   \n",
              "2  United States        Wales         1.0      0.8           NaN         1.0   \n",
              "3        Senegal  Netherlands         0.0      0.9           NaN         2.0   \n",
              "4         France    Australia         4.0      4.0           NaN         1.0   \n",
              "\n",
              "   away_xg  away_penalty      home_manager       home_captain  ... Attendance  \\\n",
              "0      1.2           NaN     Félix Sánchez   Hassan Al-Haydos  ...      67372   \n",
              "1      1.4           NaN  Gareth Southgate         Harry Kane  ...      45334   \n",
              "2      1.5           NaN   Gregg Berhalter        Tyler Adams  ...      43418   \n",
              "3      0.7           NaN       Aliou Cissé  Kalidou Koulibaly  ...      41721   \n",
              "4      0.5           NaN  Didier Deschamps        Hugo Lloris  ...      40875   \n",
              "\n",
              "                                 Venue  \\\n",
              "0             Al Bayt Stadium, Al Khor   \n",
              "1  Khalifa International Stadium, Doha   \n",
              "2  Ahmed bin Ali Stadium, Umm al-Afā'ī   \n",
              "3      Al Thumama Stadium, ath-Thumāma   \n",
              "4         Al Janoub Stadium, Al Wakrah   \n",
              "\n",
              "                                           Officials        Date  Score  \\\n",
              "0  Daniele Orsato (Referee) · Ciro Carbone (AR1) ...  2022-11-20    0–2   \n",
              "1  Raphael Claus (Referee) · Rodrigo Figueiredo H...  2022-11-21    6–2   \n",
              "2  Abdulrahman Ibrahim Al Jassim (Referee) · Tale...  2022-11-21    1–1   \n",
              "3  Wilton Sampaio (Referee) · Bruno Boschilia (AR...  2022-11-21    0–2   \n",
              "4  Victor Gomes (Referee) · Zakhele Siwela (AR1) ...  2022-11-22    4–1   \n",
              "\n",
              "                         Referee Notes        Round   Host  Year  \n",
              "0                 Daniele Orsato   NaN  Group stage  Qatar  2022  \n",
              "1                  Raphael Claus   NaN  Group stage  Qatar  2022  \n",
              "2  Abdulrahman Ibrahim Al Jassim   NaN  Group stage  Qatar  2022  \n",
              "3                 Wilton Sampaio   NaN  Group stage  Qatar  2022  \n",
              "4                   Victor Gomes   NaN  Group stage  Qatar  2022  \n",
              "\n",
              "[5 rows x 24 columns]"
            ],
            "text/html": [
              "\n",
              "  <div id=\"df-98513f7f-d266-48da-9a51-9fbf61cb377a\">\n",
              "    <div class=\"colab-df-container\">\n",
              "      <div>\n",
              "<style scoped>\n",
              "    .dataframe tbody tr th:only-of-type {\n",
              "        vertical-align: middle;\n",
              "    }\n",
              "\n",
              "    .dataframe tbody tr th {\n",
              "        vertical-align: top;\n",
              "    }\n",
              "\n",
              "    .dataframe thead th {\n",
              "        text-align: right;\n",
              "    }\n",
              "</style>\n",
              "<table border=\"1\" class=\"dataframe\">\n",
              "  <thead>\n",
              "    <tr style=\"text-align: right;\">\n",
              "      <th></th>\n",
              "      <th>home_team</th>\n",
              "      <th>away_team</th>\n",
              "      <th>home_score</th>\n",
              "      <th>home_xg</th>\n",
              "      <th>home_penalty</th>\n",
              "      <th>away_score</th>\n",
              "      <th>away_xg</th>\n",
              "      <th>away_penalty</th>\n",
              "      <th>home_manager</th>\n",
              "      <th>home_captain</th>\n",
              "      <th>...</th>\n",
              "      <th>Attendance</th>\n",
              "      <th>Venue</th>\n",
              "      <th>Officials</th>\n",
              "      <th>Date</th>\n",
              "      <th>Score</th>\n",
              "      <th>Referee</th>\n",
              "      <th>Notes</th>\n",
              "      <th>Round</th>\n",
              "      <th>Host</th>\n",
              "      <th>Year</th>\n",
              "    </tr>\n",
              "  </thead>\n",
              "  <tbody>\n",
              "    <tr>\n",
              "      <th>0</th>\n",
              "      <td>Qatar</td>\n",
              "      <td>Ecuador</td>\n",
              "      <td>0.0</td>\n",
              "      <td>0.3</td>\n",
              "      <td>NaN</td>\n",
              "      <td>2.0</td>\n",
              "      <td>1.2</td>\n",
              "      <td>NaN</td>\n",
              "      <td>Félix Sánchez</td>\n",
              "      <td>Hassan Al-Haydos</td>\n",
              "      <td>...</td>\n",
              "      <td>67372</td>\n",
              "      <td>Al Bayt Stadium, Al Khor</td>\n",
              "      <td>Daniele Orsato (Referee) · Ciro Carbone (AR1) ...</td>\n",
              "      <td>2022-11-20</td>\n",
              "      <td>0–2</td>\n",
              "      <td>Daniele Orsato</td>\n",
              "      <td>NaN</td>\n",
              "      <td>Group stage</td>\n",
              "      <td>Qatar</td>\n",
              "      <td>2022</td>\n",
              "    </tr>\n",
              "    <tr>\n",
              "      <th>1</th>\n",
              "      <td>England</td>\n",
              "      <td>IR Iran</td>\n",
              "      <td>6.0</td>\n",
              "      <td>2.1</td>\n",
              "      <td>NaN</td>\n",
              "      <td>2.0</td>\n",
              "      <td>1.4</td>\n",
              "      <td>NaN</td>\n",
              "      <td>Gareth Southgate</td>\n",
              "      <td>Harry Kane</td>\n",
              "      <td>...</td>\n",
              "      <td>45334</td>\n",
              "      <td>Khalifa International Stadium, Doha</td>\n",
              "      <td>Raphael Claus (Referee) · Rodrigo Figueiredo H...</td>\n",
              "      <td>2022-11-21</td>\n",
              "      <td>6–2</td>\n",
              "      <td>Raphael Claus</td>\n",
              "      <td>NaN</td>\n",
              "      <td>Group stage</td>\n",
              "      <td>Qatar</td>\n",
              "      <td>2022</td>\n",
              "    </tr>\n",
              "    <tr>\n",
              "      <th>2</th>\n",
              "      <td>United States</td>\n",
              "      <td>Wales</td>\n",
              "      <td>1.0</td>\n",
              "      <td>0.8</td>\n",
              "      <td>NaN</td>\n",
              "      <td>1.0</td>\n",
              "      <td>1.5</td>\n",
              "      <td>NaN</td>\n",
              "      <td>Gregg Berhalter</td>\n",
              "      <td>Tyler Adams</td>\n",
              "      <td>...</td>\n",
              "      <td>43418</td>\n",
              "      <td>Ahmed bin Ali Stadium, Umm al-Afā'ī</td>\n",
              "      <td>Abdulrahman Ibrahim Al Jassim (Referee) · Tale...</td>\n",
              "      <td>2022-11-21</td>\n",
              "      <td>1–1</td>\n",
              "      <td>Abdulrahman Ibrahim Al Jassim</td>\n",
              "      <td>NaN</td>\n",
              "      <td>Group stage</td>\n",
              "      <td>Qatar</td>\n",
              "      <td>2022</td>\n",
              "    </tr>\n",
              "    <tr>\n",
              "      <th>3</th>\n",
              "      <td>Senegal</td>\n",
              "      <td>Netherlands</td>\n",
              "      <td>0.0</td>\n",
              "      <td>0.9</td>\n",
              "      <td>NaN</td>\n",
              "      <td>2.0</td>\n",
              "      <td>0.7</td>\n",
              "      <td>NaN</td>\n",
              "      <td>Aliou Cissé</td>\n",
              "      <td>Kalidou Koulibaly</td>\n",
              "      <td>...</td>\n",
              "      <td>41721</td>\n",
              "      <td>Al Thumama Stadium, ath-Thumāma</td>\n",
              "      <td>Wilton Sampaio (Referee) · Bruno Boschilia (AR...</td>\n",
              "      <td>2022-11-21</td>\n",
              "      <td>0–2</td>\n",
              "      <td>Wilton Sampaio</td>\n",
              "      <td>NaN</td>\n",
              "      <td>Group stage</td>\n",
              "      <td>Qatar</td>\n",
              "      <td>2022</td>\n",
              "    </tr>\n",
              "    <tr>\n",
              "      <th>4</th>\n",
              "      <td>France</td>\n",
              "      <td>Australia</td>\n",
              "      <td>4.0</td>\n",
              "      <td>4.0</td>\n",
              "      <td>NaN</td>\n",
              "      <td>1.0</td>\n",
              "      <td>0.5</td>\n",
              "      <td>NaN</td>\n",
              "      <td>Didier Deschamps</td>\n",
              "      <td>Hugo Lloris</td>\n",
              "      <td>...</td>\n",
              "      <td>40875</td>\n",
              "      <td>Al Janoub Stadium, Al Wakrah</td>\n",
              "      <td>Victor Gomes (Referee) · Zakhele Siwela (AR1) ...</td>\n",
              "      <td>2022-11-22</td>\n",
              "      <td>4–1</td>\n",
              "      <td>Victor Gomes</td>\n",
              "      <td>NaN</td>\n",
              "      <td>Group stage</td>\n",
              "      <td>Qatar</td>\n",
              "      <td>2022</td>\n",
              "    </tr>\n",
              "  </tbody>\n",
              "</table>\n",
              "<p>5 rows × 24 columns</p>\n",
              "</div>\n",
              "      <button class=\"colab-df-convert\" onclick=\"convertToInteractive('df-98513f7f-d266-48da-9a51-9fbf61cb377a')\"\n",
              "              title=\"Convert this dataframe to an interactive table.\"\n",
              "              style=\"display:none;\">\n",
              "        \n",
              "  <svg xmlns=\"http://www.w3.org/2000/svg\" height=\"24px\"viewBox=\"0 0 24 24\"\n",
              "       width=\"24px\">\n",
              "    <path d=\"M0 0h24v24H0V0z\" fill=\"none\"/>\n",
              "    <path d=\"M18.56 5.44l.94 2.06.94-2.06 2.06-.94-2.06-.94-.94-2.06-.94 2.06-2.06.94zm-11 1L8.5 8.5l.94-2.06 2.06-.94-2.06-.94L8.5 2.5l-.94 2.06-2.06.94zm10 10l.94 2.06.94-2.06 2.06-.94-2.06-.94-.94-2.06-.94 2.06-2.06.94z\"/><path d=\"M17.41 7.96l-1.37-1.37c-.4-.4-.92-.59-1.43-.59-.52 0-1.04.2-1.43.59L10.3 9.45l-7.72 7.72c-.78.78-.78 2.05 0 2.83L4 21.41c.39.39.9.59 1.41.59.51 0 1.02-.2 1.41-.59l7.78-7.78 2.81-2.81c.8-.78.8-2.07 0-2.86zM5.41 20L4 18.59l7.72-7.72 1.47 1.35L5.41 20z\"/>\n",
              "  </svg>\n",
              "      </button>\n",
              "      \n",
              "  <style>\n",
              "    .colab-df-container {\n",
              "      display:flex;\n",
              "      flex-wrap:wrap;\n",
              "      gap: 12px;\n",
              "    }\n",
              "\n",
              "    .colab-df-convert {\n",
              "      background-color: #E8F0FE;\n",
              "      border: none;\n",
              "      border-radius: 50%;\n",
              "      cursor: pointer;\n",
              "      display: none;\n",
              "      fill: #1967D2;\n",
              "      height: 32px;\n",
              "      padding: 0 0 0 0;\n",
              "      width: 32px;\n",
              "    }\n",
              "\n",
              "    .colab-df-convert:hover {\n",
              "      background-color: #E2EBFA;\n",
              "      box-shadow: 0px 1px 2px rgba(60, 64, 67, 0.3), 0px 1px 3px 1px rgba(60, 64, 67, 0.15);\n",
              "      fill: #174EA6;\n",
              "    }\n",
              "\n",
              "    [theme=dark] .colab-df-convert {\n",
              "      background-color: #3B4455;\n",
              "      fill: #D2E3FC;\n",
              "    }\n",
              "\n",
              "    [theme=dark] .colab-df-convert:hover {\n",
              "      background-color: #434B5C;\n",
              "      box-shadow: 0px 1px 3px 1px rgba(0, 0, 0, 0.15);\n",
              "      filter: drop-shadow(0px 1px 2px rgba(0, 0, 0, 0.3));\n",
              "      fill: #FFFFFF;\n",
              "    }\n",
              "  </style>\n",
              "\n",
              "      <script>\n",
              "        const buttonEl =\n",
              "          document.querySelector('#df-98513f7f-d266-48da-9a51-9fbf61cb377a button.colab-df-convert');\n",
              "        buttonEl.style.display =\n",
              "          google.colab.kernel.accessAllowed ? 'block' : 'none';\n",
              "\n",
              "        async function convertToInteractive(key) {\n",
              "          const element = document.querySelector('#df-98513f7f-d266-48da-9a51-9fbf61cb377a');\n",
              "          const dataTable =\n",
              "            await google.colab.kernel.invokeFunction('convertToInteractive',\n",
              "                                                     [key], {});\n",
              "          if (!dataTable) return;\n",
              "\n",
              "          const docLinkHtml = 'Like what you see? Visit the ' +\n",
              "            '<a target=\"_blank\" href=https://colab.research.google.com/notebooks/data_table.ipynb>data table notebook</a>'\n",
              "            + ' to learn more about interactive tables.';\n",
              "          element.innerHTML = '';\n",
              "          dataTable['output_type'] = 'display_data';\n",
              "          await google.colab.output.renderOutput(dataTable, element);\n",
              "          const docLink = document.createElement('div');\n",
              "          docLink.innerHTML = docLinkHtml;\n",
              "          element.appendChild(docLink);\n",
              "        }\n",
              "      </script>\n",
              "    </div>\n",
              "  </div>\n",
              "  "
            ]
          },
          "metadata": {},
          "execution_count": 13
        }
      ]
    },
    {
      "cell_type": "code",
      "source": [
        "world_cup['matches_2022'].info()"
      ],
      "metadata": {
        "colab": {
          "base_uri": "https://localhost:8080/"
        },
        "id": "l_LgX7Q83PLg",
        "outputId": "73f7bb31-9e28-428f-d4b0-cee73a62e5d4"
      },
      "execution_count": 9,
      "outputs": [
        {
          "output_type": "stream",
          "name": "stdout",
          "text": [
            "<class 'pandas.core.frame.DataFrame'>\n",
            "RangeIndex: 54 entries, 0 to 53\n",
            "Data columns (total 24 columns):\n",
            " #   Column        Non-Null Count  Dtype  \n",
            "---  ------        --------------  -----  \n",
            " 0   home_team     54 non-null     object \n",
            " 1   away_team     54 non-null     object \n",
            " 2   home_score    44 non-null     float64\n",
            " 3   home_xg       44 non-null     float64\n",
            " 4   home_penalty  0 non-null      float64\n",
            " 5   away_score    44 non-null     float64\n",
            " 6   away_xg       44 non-null     float64\n",
            " 7   away_penalty  0 non-null      float64\n",
            " 8   home_manager  44 non-null     object \n",
            " 9   home_captain  44 non-null     object \n",
            " 10  away_manager  44 non-null     object \n",
            " 11  away_captain  44 non-null     object \n",
            " 12  home_goals    30 non-null     object \n",
            " 13  away_goals    27 non-null     object \n",
            " 14  Attendance    54 non-null     int64  \n",
            " 15  Venue         44 non-null     object \n",
            " 16  Officials     44 non-null     object \n",
            " 17  Date          54 non-null     object \n",
            " 18  Score         44 non-null     object \n",
            " 19  Referee       44 non-null     object \n",
            " 20  Notes         0 non-null      float64\n",
            " 21  Round         54 non-null     object \n",
            " 22  Host          54 non-null     object \n",
            " 23  Year          54 non-null     int64  \n",
            "dtypes: float64(7), int64(2), object(15)\n",
            "memory usage: 10.2+ KB\n"
          ]
        }
      ]
    },
    {
      "cell_type": "code",
      "source": [
        "world_cup['matches_2022'].describe()"
      ],
      "metadata": {
        "colab": {
          "base_uri": "https://localhost:8080/",
          "height": 300
        },
        "id": "i0hLuCj63ZXD",
        "outputId": "87364c6c-6330-44e7-f316-c7d2568e4f85"
      },
      "execution_count": 10,
      "outputs": [
        {
          "output_type": "execute_result",
          "data": {
            "text/plain": [
              "       home_score    home_xg  home_penalty  away_score    away_xg  \\\n",
              "count   44.000000  44.000000           0.0   44.000000  44.000000   \n",
              "mean     1.340909   1.279545           NaN    1.136364   1.211364   \n",
              "std      1.569227   0.894838           NaN    1.112109   1.057029   \n",
              "min      0.000000   0.100000           NaN    0.000000   0.000000   \n",
              "25%      0.000000   0.675000           NaN    0.000000   0.575000   \n",
              "50%      1.000000   1.000000           NaN    1.000000   0.900000   \n",
              "75%      2.000000   1.650000           NaN    2.000000   1.525000   \n",
              "max      7.000000   4.000000           NaN    4.000000   5.700000   \n",
              "\n",
              "       away_penalty    Attendance  Notes    Year  \n",
              "count           0.0     54.000000    0.0    54.0  \n",
              "mean            NaN  41521.388889    NaN  2022.0  \n",
              "std             NaN  24502.775320    NaN     0.0  \n",
              "min             NaN      0.000000    NaN  2022.0  \n",
              "25%             NaN  40117.750000    NaN  2022.0  \n",
              "50%             NaN  42892.500000    NaN  2022.0  \n",
              "75%             NaN  44767.000000    NaN  2022.0  \n",
              "max             NaN  88966.000000    NaN  2022.0  "
            ],
            "text/html": [
              "\n",
              "  <div id=\"df-0124ab98-4ab9-428c-b66d-f2eb03e12d3f\">\n",
              "    <div class=\"colab-df-container\">\n",
              "      <div>\n",
              "<style scoped>\n",
              "    .dataframe tbody tr th:only-of-type {\n",
              "        vertical-align: middle;\n",
              "    }\n",
              "\n",
              "    .dataframe tbody tr th {\n",
              "        vertical-align: top;\n",
              "    }\n",
              "\n",
              "    .dataframe thead th {\n",
              "        text-align: right;\n",
              "    }\n",
              "</style>\n",
              "<table border=\"1\" class=\"dataframe\">\n",
              "  <thead>\n",
              "    <tr style=\"text-align: right;\">\n",
              "      <th></th>\n",
              "      <th>home_score</th>\n",
              "      <th>home_xg</th>\n",
              "      <th>home_penalty</th>\n",
              "      <th>away_score</th>\n",
              "      <th>away_xg</th>\n",
              "      <th>away_penalty</th>\n",
              "      <th>Attendance</th>\n",
              "      <th>Notes</th>\n",
              "      <th>Year</th>\n",
              "    </tr>\n",
              "  </thead>\n",
              "  <tbody>\n",
              "    <tr>\n",
              "      <th>count</th>\n",
              "      <td>44.000000</td>\n",
              "      <td>44.000000</td>\n",
              "      <td>0.0</td>\n",
              "      <td>44.000000</td>\n",
              "      <td>44.000000</td>\n",
              "      <td>0.0</td>\n",
              "      <td>54.000000</td>\n",
              "      <td>0.0</td>\n",
              "      <td>54.0</td>\n",
              "    </tr>\n",
              "    <tr>\n",
              "      <th>mean</th>\n",
              "      <td>1.340909</td>\n",
              "      <td>1.279545</td>\n",
              "      <td>NaN</td>\n",
              "      <td>1.136364</td>\n",
              "      <td>1.211364</td>\n",
              "      <td>NaN</td>\n",
              "      <td>41521.388889</td>\n",
              "      <td>NaN</td>\n",
              "      <td>2022.0</td>\n",
              "    </tr>\n",
              "    <tr>\n",
              "      <th>std</th>\n",
              "      <td>1.569227</td>\n",
              "      <td>0.894838</td>\n",
              "      <td>NaN</td>\n",
              "      <td>1.112109</td>\n",
              "      <td>1.057029</td>\n",
              "      <td>NaN</td>\n",
              "      <td>24502.775320</td>\n",
              "      <td>NaN</td>\n",
              "      <td>0.0</td>\n",
              "    </tr>\n",
              "    <tr>\n",
              "      <th>min</th>\n",
              "      <td>0.000000</td>\n",
              "      <td>0.100000</td>\n",
              "      <td>NaN</td>\n",
              "      <td>0.000000</td>\n",
              "      <td>0.000000</td>\n",
              "      <td>NaN</td>\n",
              "      <td>0.000000</td>\n",
              "      <td>NaN</td>\n",
              "      <td>2022.0</td>\n",
              "    </tr>\n",
              "    <tr>\n",
              "      <th>25%</th>\n",
              "      <td>0.000000</td>\n",
              "      <td>0.675000</td>\n",
              "      <td>NaN</td>\n",
              "      <td>0.000000</td>\n",
              "      <td>0.575000</td>\n",
              "      <td>NaN</td>\n",
              "      <td>40117.750000</td>\n",
              "      <td>NaN</td>\n",
              "      <td>2022.0</td>\n",
              "    </tr>\n",
              "    <tr>\n",
              "      <th>50%</th>\n",
              "      <td>1.000000</td>\n",
              "      <td>1.000000</td>\n",
              "      <td>NaN</td>\n",
              "      <td>1.000000</td>\n",
              "      <td>0.900000</td>\n",
              "      <td>NaN</td>\n",
              "      <td>42892.500000</td>\n",
              "      <td>NaN</td>\n",
              "      <td>2022.0</td>\n",
              "    </tr>\n",
              "    <tr>\n",
              "      <th>75%</th>\n",
              "      <td>2.000000</td>\n",
              "      <td>1.650000</td>\n",
              "      <td>NaN</td>\n",
              "      <td>2.000000</td>\n",
              "      <td>1.525000</td>\n",
              "      <td>NaN</td>\n",
              "      <td>44767.000000</td>\n",
              "      <td>NaN</td>\n",
              "      <td>2022.0</td>\n",
              "    </tr>\n",
              "    <tr>\n",
              "      <th>max</th>\n",
              "      <td>7.000000</td>\n",
              "      <td>4.000000</td>\n",
              "      <td>NaN</td>\n",
              "      <td>4.000000</td>\n",
              "      <td>5.700000</td>\n",
              "      <td>NaN</td>\n",
              "      <td>88966.000000</td>\n",
              "      <td>NaN</td>\n",
              "      <td>2022.0</td>\n",
              "    </tr>\n",
              "  </tbody>\n",
              "</table>\n",
              "</div>\n",
              "      <button class=\"colab-df-convert\" onclick=\"convertToInteractive('df-0124ab98-4ab9-428c-b66d-f2eb03e12d3f')\"\n",
              "              title=\"Convert this dataframe to an interactive table.\"\n",
              "              style=\"display:none;\">\n",
              "        \n",
              "  <svg xmlns=\"http://www.w3.org/2000/svg\" height=\"24px\"viewBox=\"0 0 24 24\"\n",
              "       width=\"24px\">\n",
              "    <path d=\"M0 0h24v24H0V0z\" fill=\"none\"/>\n",
              "    <path d=\"M18.56 5.44l.94 2.06.94-2.06 2.06-.94-2.06-.94-.94-2.06-.94 2.06-2.06.94zm-11 1L8.5 8.5l.94-2.06 2.06-.94-2.06-.94L8.5 2.5l-.94 2.06-2.06.94zm10 10l.94 2.06.94-2.06 2.06-.94-2.06-.94-.94-2.06-.94 2.06-2.06.94z\"/><path d=\"M17.41 7.96l-1.37-1.37c-.4-.4-.92-.59-1.43-.59-.52 0-1.04.2-1.43.59L10.3 9.45l-7.72 7.72c-.78.78-.78 2.05 0 2.83L4 21.41c.39.39.9.59 1.41.59.51 0 1.02-.2 1.41-.59l7.78-7.78 2.81-2.81c.8-.78.8-2.07 0-2.86zM5.41 20L4 18.59l7.72-7.72 1.47 1.35L5.41 20z\"/>\n",
              "  </svg>\n",
              "      </button>\n",
              "      \n",
              "  <style>\n",
              "    .colab-df-container {\n",
              "      display:flex;\n",
              "      flex-wrap:wrap;\n",
              "      gap: 12px;\n",
              "    }\n",
              "\n",
              "    .colab-df-convert {\n",
              "      background-color: #E8F0FE;\n",
              "      border: none;\n",
              "      border-radius: 50%;\n",
              "      cursor: pointer;\n",
              "      display: none;\n",
              "      fill: #1967D2;\n",
              "      height: 32px;\n",
              "      padding: 0 0 0 0;\n",
              "      width: 32px;\n",
              "    }\n",
              "\n",
              "    .colab-df-convert:hover {\n",
              "      background-color: #E2EBFA;\n",
              "      box-shadow: 0px 1px 2px rgba(60, 64, 67, 0.3), 0px 1px 3px 1px rgba(60, 64, 67, 0.15);\n",
              "      fill: #174EA6;\n",
              "    }\n",
              "\n",
              "    [theme=dark] .colab-df-convert {\n",
              "      background-color: #3B4455;\n",
              "      fill: #D2E3FC;\n",
              "    }\n",
              "\n",
              "    [theme=dark] .colab-df-convert:hover {\n",
              "      background-color: #434B5C;\n",
              "      box-shadow: 0px 1px 3px 1px rgba(0, 0, 0, 0.15);\n",
              "      filter: drop-shadow(0px 1px 2px rgba(0, 0, 0, 0.3));\n",
              "      fill: #FFFFFF;\n",
              "    }\n",
              "  </style>\n",
              "\n",
              "      <script>\n",
              "        const buttonEl =\n",
              "          document.querySelector('#df-0124ab98-4ab9-428c-b66d-f2eb03e12d3f button.colab-df-convert');\n",
              "        buttonEl.style.display =\n",
              "          google.colab.kernel.accessAllowed ? 'block' : 'none';\n",
              "\n",
              "        async function convertToInteractive(key) {\n",
              "          const element = document.querySelector('#df-0124ab98-4ab9-428c-b66d-f2eb03e12d3f');\n",
              "          const dataTable =\n",
              "            await google.colab.kernel.invokeFunction('convertToInteractive',\n",
              "                                                     [key], {});\n",
              "          if (!dataTable) return;\n",
              "\n",
              "          const docLinkHtml = 'Like what you see? Visit the ' +\n",
              "            '<a target=\"_blank\" href=https://colab.research.google.com/notebooks/data_table.ipynb>data table notebook</a>'\n",
              "            + ' to learn more about interactive tables.';\n",
              "          element.innerHTML = '';\n",
              "          dataTable['output_type'] = 'display_data';\n",
              "          await google.colab.output.renderOutput(dataTable, element);\n",
              "          const docLink = document.createElement('div');\n",
              "          docLink.innerHTML = docLinkHtml;\n",
              "          element.appendChild(docLink);\n",
              "        }\n",
              "      </script>\n",
              "    </div>\n",
              "  </div>\n",
              "  "
            ]
          },
          "metadata": {},
          "execution_count": 10
        }
      ]
    },
    {
      "cell_type": "code",
      "source": [
        "from sklearn.model_selection import train_test_split\n",
        "\n",
        "train_set, test_set = train_test_split(world_cup['matches_2022'], test_size=0.2, random_state=42)"
      ],
      "metadata": {
        "id": "rkcr1KKx3r1U"
      },
      "execution_count": 14,
      "outputs": []
    },
    {
      "cell_type": "code",
      "source": [
        "train_set.info()"
      ],
      "metadata": {
        "colab": {
          "base_uri": "https://localhost:8080/"
        },
        "id": "ssKzWxJycRr1",
        "outputId": "8e548fa2-7547-44ad-ccfe-e63c826c2b4c"
      },
      "execution_count": 15,
      "outputs": [
        {
          "output_type": "stream",
          "name": "stdout",
          "text": [
            "<class 'pandas.core.frame.DataFrame'>\n",
            "Int64Index: 43 entries, 8 to 38\n",
            "Data columns (total 24 columns):\n",
            " #   Column        Non-Null Count  Dtype  \n",
            "---  ------        --------------  -----  \n",
            " 0   home_team     43 non-null     object \n",
            " 1   away_team     43 non-null     object \n",
            " 2   home_score    37 non-null     float64\n",
            " 3   home_xg       37 non-null     float64\n",
            " 4   home_penalty  0 non-null      float64\n",
            " 5   away_score    37 non-null     float64\n",
            " 6   away_xg       37 non-null     float64\n",
            " 7   away_penalty  0 non-null      float64\n",
            " 8   home_manager  37 non-null     object \n",
            " 9   home_captain  37 non-null     object \n",
            " 10  away_manager  37 non-null     object \n",
            " 11  away_captain  37 non-null     object \n",
            " 12  home_goals    26 non-null     object \n",
            " 13  away_goals    23 non-null     object \n",
            " 14  Attendance    43 non-null     int64  \n",
            " 15  Venue         37 non-null     object \n",
            " 16  Officials     37 non-null     object \n",
            " 17  Date          43 non-null     object \n",
            " 18  Score         37 non-null     object \n",
            " 19  Referee       37 non-null     object \n",
            " 20  Notes         0 non-null      float64\n",
            " 21  Round         43 non-null     object \n",
            " 22  Host          43 non-null     object \n",
            " 23  Year          43 non-null     int64  \n",
            "dtypes: float64(7), int64(2), object(15)\n",
            "memory usage: 8.4+ KB\n"
          ]
        }
      ]
    },
    {
      "cell_type": "code",
      "source": [
        "test_set.info()"
      ],
      "metadata": {
        "colab": {
          "base_uri": "https://localhost:8080/"
        },
        "id": "FoUp39YSc0Pk",
        "outputId": "6787f477-09bf-4909-83b3-99f243de9eef"
      },
      "execution_count": 16,
      "outputs": [
        {
          "output_type": "stream",
          "name": "stdout",
          "text": [
            "<class 'pandas.core.frame.DataFrame'>\n",
            "Int64Index: 11 entries, 19 to 13\n",
            "Data columns (total 24 columns):\n",
            " #   Column        Non-Null Count  Dtype  \n",
            "---  ------        --------------  -----  \n",
            " 0   home_team     11 non-null     object \n",
            " 1   away_team     11 non-null     object \n",
            " 2   home_score    7 non-null      float64\n",
            " 3   home_xg       7 non-null      float64\n",
            " 4   home_penalty  0 non-null      float64\n",
            " 5   away_score    7 non-null      float64\n",
            " 6   away_xg       7 non-null      float64\n",
            " 7   away_penalty  0 non-null      float64\n",
            " 8   home_manager  7 non-null      object \n",
            " 9   home_captain  7 non-null      object \n",
            " 10  away_manager  7 non-null      object \n",
            " 11  away_captain  7 non-null      object \n",
            " 12  home_goals    4 non-null      object \n",
            " 13  away_goals    4 non-null      object \n",
            " 14  Attendance    11 non-null     int64  \n",
            " 15  Venue         7 non-null      object \n",
            " 16  Officials     7 non-null      object \n",
            " 17  Date          11 non-null     object \n",
            " 18  Score         7 non-null      object \n",
            " 19  Referee       7 non-null      object \n",
            " 20  Notes         0 non-null      float64\n",
            " 21  Round         11 non-null     object \n",
            " 22  Host          11 non-null     object \n",
            " 23  Year          11 non-null     int64  \n",
            "dtypes: float64(7), int64(2), object(15)\n",
            "memory usage: 2.1+ KB\n"
          ]
        }
      ]
    },
    {
      "cell_type": "code",
      "source": [
        "import numpy as np\n",
        "\n",
        "world_cup[\"matches_2022\"][\"score_cat\"] = pd.cut(world_cup[\"matches_2022\"][\"home_score\"],\n",
        " bins=[0., 2, 4, 5, 6., np.inf],\n",
        " labels=[1, 2, 3, 4, 5])\n"
      ],
      "metadata": {
        "id": "jFWEcpzgEve2"
      },
      "execution_count": 33,
      "outputs": []
    },
    {
      "cell_type": "code",
      "source": [
        "world_cup[\"matches_2022\"][\"score_cat\"].hist()"
      ],
      "metadata": {
        "colab": {
          "base_uri": "https://localhost:8080/",
          "height": 282
        },
        "id": "3_qu7cKVEwAf",
        "outputId": "0dd7f1eb-8170-4347-9762-501dbf6a2130"
      },
      "execution_count": 34,
      "outputs": [
        {
          "output_type": "execute_result",
          "data": {
            "text/plain": [
              "<matplotlib.axes._subplots.AxesSubplot at 0x7fb7850f6d90>"
            ]
          },
          "metadata": {},
          "execution_count": 34
        },
        {
          "output_type": "display_data",
          "data": {
            "text/plain": [
              "<Figure size 432x288 with 1 Axes>"
            ],
            "image/png": "[encoded data removed]"
          },
          "metadata": {
            "needs_background": "light"
          }
        }
      ]
    },
    {
      "cell_type": "code",
      "source": [
        "world_cup[\"matches_2022\"][\"score_cat\"].head()"
      ],
      "metadata": {
        "colab": {
          "base_uri": "https://localhost:8080/"
        },
        "id": "MQLaygSfkNyj",
        "outputId": "ef3dc957-9367-49f2-f2e9-b519df159315"
      },
      "execution_count": 35,
      "outputs": [
        {
          "output_type": "execute_result",
          "data": {
            "text/plain": [
              "0    NaN\n",
              "1      4\n",
              "2      1\n",
              "3    NaN\n",
              "4      2\n",
              "Name: score_cat, dtype: category\n",
              "Categories (5, int64): [1 < 2 < 3 < 4 < 5]"
            ]
          },
          "metadata": {},
          "execution_count": 35
        }
      ]
    },
    {
      "cell_type": "code",
      "source": [
        "from sklearn.model_selection import StratifiedShuffleSplit\n",
        "split = StratifiedShuffleSplit(n_splits=1, test_size=0.2, random_state=42)\n",
        "for train_index, test_index in split.split(world_cup['matches_2022'], world_cup[\"matches_2022\"][\"score_cat\"].notnull()):\n",
        "  strat_train_set = world_cup['matches_2022'].loc[train_index]\n",
        "  strat_test_set = world_cup['matches_2022'].loc[test_index]\n"
      ],
      "metadata": {
        "id": "qI4MI6UjFzVl"
      },
      "execution_count": 36,
      "outputs": []
    },
    {
      "cell_type": "code",
      "source": [
        "strat_test_set[\"score_cat\"].value_counts() / len(strat_test_set)"
      ],
      "metadata": {
        "colab": {
          "base_uri": "https://localhost:8080/"
        },
        "id": "GbfpMSioF1Ly",
        "outputId": "3cbfb837-22b6-43dc-fa16-64f13bb119c3"
      },
      "execution_count": 38,
      "outputs": [
        {
          "output_type": "execute_result",
          "data": {
            "text/plain": [
              "1    0.454545\n",
              "2    0.090909\n",
              "3    0.000000\n",
              "4    0.000000\n",
              "5    0.000000\n",
              "Name: score_cat, dtype: float64"
            ]
          },
          "metadata": {},
          "execution_count": 38
        }
      ]
    },
    {
      "cell_type": "code",
      "source": [
        "for set_ in (strat_train_set, strat_test_set):\n",
        " set_.drop(\"score_cat\", axis=1, inplace=True)"
      ],
      "metadata": {
        "id": "qzqhSBLcF3HF"
      },
      "execution_count": 39,
      "outputs": []
    },
    {
      "cell_type": "code",
      "source": [],
      "metadata": {
        "id": "xwdubhbVJeOm"
      },
      "execution_count": null,
      "outputs": []
    }
  ]
}